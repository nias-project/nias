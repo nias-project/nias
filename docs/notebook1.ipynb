{
  "cells": [
    {
      "cell_type": "markdown",
      "id": "f8cf6d75",
      "metadata": {},
      "source": [
        "# Jupyter Notebook"
      ]
    },
    {
      "cell_type": "code",
      "execution_count": null,
      "id": "bd2cfe1f",
      "metadata": {},
      "outputs": [],
      "source": [
        "print('Hello, World!')"
      ]
    }
  ],
  "metadata": {
    "kernelspec": {
      "display_name": "Python 3",
      "language": "python",
      "name": "python3"
    }
  },
  "nbformat": 4,
  "nbformat_minor": 5
}
